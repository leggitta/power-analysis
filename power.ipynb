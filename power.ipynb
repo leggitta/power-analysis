{
 "cells": [
  {
   "cell_type": "code",
   "execution_count": null,
   "metadata": {},
   "outputs": [],
   "source": [
    "import pandas as pd\n",
    "import matplotlib.pyplot as plt\n",
    "import numpy as np\n",
    "from statsmodels.stats import power, proportion\n",
    "import pickle\n",
    "import numpy as np\n",
    "from bokeh.plotting import figure, show, output_notebook\n",
    "from bokeh import palettes\n",
    "output_notebook()\n",
    "%matplotlib inline"
   ]
  },
  {
   "cell_type": "code",
   "execution_count": null,
   "metadata": {},
   "outputs": [],
   "source": [
    "pwr = power.NormalIndPower()"
   ]
  },
  {
   "cell_type": "code",
   "execution_count": null,
   "metadata": {},
   "outputs": [],
   "source": [
    "n = 101\n",
    "\n",
    "p1 = np.linspace(0, 1, n)\n",
    "p2 = np.linspace(0, 1, n)\n",
    "nobs = np.zeros((n, n)) + np.nan\n",
    "\n",
    "for i, p1_ in enumerate(p1):\n",
    "    for j, p2_ in enumerate(p2):\n",
    "        h = proportion.proportion_effectsize(p1_, p2_)\n",
    "        if i == j:\n",
    "            continue\n",
    "        try:\n",
    "            nobs[i, j] = pwr.solve_power(\n",
    "                effect_size=h, alpha=0.05, power=0.8, \n",
    "                ratio=1.0, alternative='two-sided'\n",
    "            )\n",
    "        except:\n",
    "            pass"
   ]
  },
  {
   "cell_type": "code",
   "execution_count": null,
   "metadata": {},
   "outputs": [],
   "source": [
    "p = figure(tooltips=[(\"x\", \"$x\"), (\"y\", \"$y\"), (\"value\", \"@image\")])\n",
    "p.x_range.range_padding = p.y_range.range_padding = 0\n",
    "p.image([np.log10(nobs)], 0, 0, 1, 1, palette=\"Inferno256\")\n",
    "show(p)  # open a browser"
   ]
  },
  {
   "cell_type": "code",
   "execution_count": null,
   "metadata": {},
   "outputs": [],
   "source": [
    "inferno256 = palettes.inferno(256)\n",
    "\n",
    "mn, mx = np.nanmin(np.log10(nobs)), np.nanmax(np.log10(nobs))\n",
    "cmap = np.linspace(mn, mx, 256)"
   ]
  },
  {
   "cell_type": "code",
   "execution_count": null,
   "metadata": {},
   "outputs": [],
   "source": [
    "color = []\n",
    "x, y, dp = [], [], []\n",
    "for i, p1_ in enumerate(p1):\n",
    "    for j, p2_ in enumerate(p2):\n",
    "        z = np.log10(nobs[i, j])\n",
    "        if np.isnan(z):\n",
    "            c = '#ffffff'\n",
    "        else:\n",
    "            idx = (z >= cmap).sum()-1\n",
    "            c = inferno256[idx]\n",
    "        color.append(c)\n",
    "        x.append(p1_)\n",
    "        y.append(p2_)\n",
    "        dp.append(p2_ - p1_)"
   ]
  },
  {
   "cell_type": "code",
   "execution_count": null,
   "metadata": {},
   "outputs": [],
   "source": [
    "src=dict(\n",
    "    xname=x,\n",
    "    yname=y,\n",
    "    dp=dp,\n",
    "    colors=color,\n",
    "    count=nobs.flatten()\n",
    ")\n",
    "\n",
    "tooltips = [\n",
    "    ('Control', '@xname{0.00}'), \n",
    "    ('Test', '@yname{0.00}'), \n",
    "    ('Test - Control', '@dp{0.00}'),\n",
    "    ('Sample Size', '@count{0}')\n",
    "]\n",
    "\n",
    "p = figure(\n",
    "    x_axis_location=\"above\", tools=\"hover,crosshair\",\n",
    "    x_range=(0, 1), y_range=(0, 1),\n",
    "    tooltips = tooltips\n",
    ")\n",
    "\n",
    "p.plot_width = 600\n",
    "p.plot_height = 600\n",
    "p.grid.grid_line_color = None\n",
    "p.axis.axis_line_color = None\n",
    "p.axis.major_tick_line_color = None\n",
    "p.axis.major_label_text_font_size = \"12pt\"\n",
    "p.xaxis.axis_label = 'Control Probability'\n",
    "p.yaxis.axis_label = 'Test Probability'\n",
    "\n",
    "\n",
    "p.rect('xname', 'yname', 0.01, 0.01, source=src,\n",
    "       color='colors', line_color='colors',\n",
    "       hover_line_color='black', hover_color='colors')\n",
    "\n",
    "show(p) # show the plot"
   ]
  },
  {
   "cell_type": "code",
   "execution_count": null,
   "metadata": {},
   "outputs": [],
   "source": [
    "# add colorbar with log scale"
   ]
  }
 ],
 "metadata": {
  "kernelspec": {
   "display_name": "Python 3",
   "language": "python",
   "name": "python3"
  },
  "language_info": {
   "codemirror_mode": {
    "name": "ipython",
    "version": 3
   },
   "file_extension": ".py",
   "mimetype": "text/x-python",
   "name": "python",
   "nbconvert_exporter": "python",
   "pygments_lexer": "ipython3",
   "version": "3.7.0"
  }
 },
 "nbformat": 4,
 "nbformat_minor": 2
}
